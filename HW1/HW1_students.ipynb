{
  "nbformat": 4,
  "nbformat_minor": 0,
  "metadata": {
    "colab": {
      "name": "HW1-students.ipynb",
      "provenance": [],
      "collapsed_sections": [],
      "toc_visible": true
    },
    "kernelspec": {
      "name": "python3",
      "display_name": "Python 3"
    },
    "language_info": {
      "name": "python"
    }
  },
  "cells": [
    {
      "cell_type": "markdown",
      "metadata": {
        "id": "XZ8O1MKGeH0T"
      },
      "source": [
        "# Introduction"
      ]
    },
    {
      "cell_type": "markdown",
      "metadata": {
        "id": "Wsbo8ifteUpZ"
      },
      "source": [
        "In our setting users make a binary decision of whether or not to consume an item. Each item is represented by a vector $x\\in\\mathbb{R}^n$, and the outcome is represented using binary variable $y\\in\\left\\{-1,1\\right\\}$, such that $y=1$ when the item was consumed. "
      ]
    },
    {
      "cell_type": "markdown",
      "metadata": {
        "id": "l4tGDh0JCXcX"
      },
      "source": [
        "For the implementation of behavioral bias models, we define the following abstract class:"
      ]
    },
    {
      "cell_type": "code",
      "metadata": {
        "id": "6ek1dYG9CZrG"
      },
      "source": [
        "import abc\n",
        "\n",
        "class UserModel(abc.ABC):\n",
        "  @abc.abstractclassmethod\n",
        "  def __call__(self, X, *args):\n",
        "    '''\n",
        "    Given items X, calculate the user's valuation v(x) for each item x\n",
        "    '''\n",
        "    raise NotImplementedError()\n",
        "  \n",
        "  def predict(self, X, *args):\n",
        "    '''\n",
        "    Given items X, calculate the user's preference (-1/1) for each item x\n",
        "    '''\n",
        "    raise NotImplementedError()\n",
        "\n",
        "\n",
        "class PopulationModel(abc.ABC):\n",
        "  @abc.abstractclassmethod\n",
        "  def __call__(self, X, *args):\n",
        "    '''\n",
        "    Given items X, calculate each user's valuation v(x) for each item x\n",
        "    '''\n",
        "    raise NotImplementedError()\n",
        "  \n",
        "  def predict(self, X, *args):\n",
        "    '''\n",
        "    Given items X, calculate each user's preference y for each item x\n",
        "    '''\n",
        "    raise NotImplementedError()\n"
      ],
      "execution_count": null,
      "outputs": []
    },
    {
      "cell_type": "markdown",
      "metadata": {
        "id": "8o4nN3RNCPBg"
      },
      "source": [
        "## **A simple example**"
      ]
    },
    {
      "cell_type": "markdown",
      "metadata": {
        "id": "I2PoFBaSCab8"
      },
      "source": [
        "**Create a user model**"
      ]
    },
    {
      "cell_type": "code",
      "metadata": {
        "id": "As_I5sNbCcUw"
      },
      "source": [
        "import numpy as np\n",
        "\n",
        "class NoiseUserModel(UserModel):\n",
        "  \"\"\"\n",
        "  v(x) = u*x + noise\n",
        "  for a randomly generated u vector\n",
        "  \"\"\"\n",
        "\n",
        "  def __init__(self, num_features):\n",
        "    self.num_features = num_features\n",
        "    self.utility_vec = np.random.randn(num_features)\n",
        "\n",
        "  def __call__(self, X, noise_std):\n",
        "    noise = noise_std * np.random.randn(X.shape[0])\n",
        "    return X@self.utility_vec + noise\n",
        "  \n",
        "  def predict(self, X, noise_std):\n",
        "    return np.sign(self(X, noise_std))"
      ],
      "execution_count": null,
      "outputs": []
    },
    {
      "cell_type": "markdown",
      "metadata": {
        "id": "C1iD-Bx5A8Sm"
      },
      "source": [
        "**Create a population model**"
      ]
    },
    {
      "cell_type": "code",
      "metadata": {
        "id": "XIr71iiXBBRq"
      },
      "source": [
        "class NoisePopulationModel(PopulationModel):\n",
        "  \"\"\"\n",
        "  aggregates a population of users into a population model \n",
        "  \"\"\"\n",
        "\n",
        "  def __init__(self, num_users, num_features):\n",
        "    self.user_models = [NoiseUserModel(num_features) for i in range(num_users)]\n",
        "\n",
        "  def __call__(self, X, noise_std):\n",
        "    \"\"\"\n",
        "    returns a matrix of size (number of items X number of uesrs)\n",
        "    \"\"\"\n",
        "    return np.array([m(X, noise_std) for m in self.user_models]).T\n",
        "  \n",
        "  def predict(self, X, noise_std):\n",
        "    return np.sign(self(X, noise_std))"
      ],
      "execution_count": null,
      "outputs": []
    },
    {
      "cell_type": "markdown",
      "metadata": {
        "id": "ay9_hKBOlE_0"
      },
      "source": [
        "**Load dataset**"
      ]
    },
    {
      "cell_type": "code",
      "metadata": {
        "id": "SwUzX-GKeHUl"
      },
      "source": [
        "def generate_synth_data(num_features, num_items):\n",
        "  \"\"\"\n",
        "  Generates a random dataset of items of size (num_items X num_features)\n",
        "  \"\"\"\n",
        "  items = np.random.randn(num_items, num_features)\n",
        "  return items\n",
        "\n",
        "num_features = 3\n",
        "num_items = 100\n",
        "num_users = 10\n",
        "\n",
        "# Create a population model\n",
        "population_model = NoisePopulationModel(num_users, num_features)\n",
        "\n",
        "# Generate items\n",
        "X = generate_synth_data(num_features, num_items)\n",
        "args = {\"noise_std\":0.5}\n",
        "\n",
        "# calculate users preferences according to the model\n",
        "y = population_model.predict(X, **args)"
      ],
      "execution_count": null,
      "outputs": []
    },
    {
      "cell_type": "markdown",
      "metadata": {
        "id": "qWik4S0EJLDj"
      },
      "source": [
        "**Create a training pipeline**"
      ]
    },
    {
      "cell_type": "code",
      "metadata": {
        "id": "TBj445OHJSAY"
      },
      "source": [
        "from sklearn.model_selection import train_test_split\n",
        "\n",
        "class TrainingPipeline():\n",
        "  def __init__(self, training_model, metrics, test_size=0.33,\n",
        "               seed=0):\n",
        "    \"\"\"\n",
        "    training_model: a scikit training model\n",
        "    metrics: a dictionary of metric functions (values) and their names (keys).\n",
        "    each one takes (training_model, population_model, model_args, X) as arguments.\n",
        "    \"\"\"\n",
        "    self.training_model = training_model\n",
        "    self.metrics = metrics\n",
        "    self.test_size = test_size\n",
        "    self.seed = seed\n",
        "\n",
        "  # Splits the data into train and test sets\n",
        "  def split(self, X, y):\n",
        "    return train_test_split(X, y, test_size=self.test_size, random_state=self.seed)\n",
        "\n",
        "  # train the model on the train dataset\n",
        "  def fit(self, X_train, y_train):\n",
        "    self.training_model.fit(X_train, y_train)\n",
        "\n",
        "  # activate each metric on the the test set\n",
        "  def evaluate(self, population_model, model_args, X_test):\n",
        "    if model_args is None:\n",
        "      model_args = {}\n",
        "    return {name : metric(self.training_model, population_model, model_args, X_test) for name, metric in\n",
        "            metrics.items()}\n",
        "\n",
        "  # Split, fit and evaluate\n",
        "  def __call__(self, X, y, population_model, model_args=None):\n",
        "    \"\"\"\n",
        "    Calls split, then trains the model and then evaluates it according to each metric \n",
        "    \"\"\"\n",
        "    X_train, X_test, y_train, y_test = self.split(X, y)\n",
        "    self.fit(X_train, y_train)\n",
        "    return self.evaluate(population_model, model_args, X_test)"
      ],
      "execution_count": null,
      "outputs": []
    },
    {
      "cell_type": "markdown",
      "metadata": {
        "id": "su5OWdC6Me8Q"
      },
      "source": [
        "**Create some evaluation metrics**"
      ]
    },
    {
      "cell_type": "code",
      "metadata": {
        "id": "3cOCFJrRMjiI"
      },
      "source": [
        "from sklearn.metrics import accuracy_score\n",
        "\n",
        "# calculates the accuracy of the training_model\n",
        "def accuracy(training_model, population_model, model_args, X):\n",
        "  true_valuations = population_model(X, **model_args)\n",
        "  pred_valuations = training_model.predict(X)\n",
        "\n",
        "  return accuracy_score(np.sign(true_valuations).flatten(),\n",
        "                        np.sign(pred_valuations).flatten())"
      ],
      "execution_count": null,
      "outputs": []
    },
    {
      "cell_type": "markdown",
      "metadata": {
        "id": "8zZmNJKAOTZo"
      },
      "source": [
        "**Train!**"
      ]
    },
    {
      "cell_type": "code",
      "metadata": {
        "id": "qFSbJVMFOcty",
        "colab": {
          "base_uri": "https://localhost:8080/"
        },
        "outputId": "43af035a-481b-481f-efe2-2e669ec82e0f"
      },
      "source": [
        "from sklearn.linear_model import LinearRegression, LogisticRegression\n",
        "from sklearn.multioutput import MultiOutputClassifier\n",
        "\n",
        "# Create linear regression object\n",
        "training_model = LinearRegression()\n",
        "\n",
        "# Create metrics list\n",
        "metrics = {\"accuracy\" : accuracy}\n",
        "\n",
        "# Create pipeline\n",
        "t = TrainingPipeline(training_model, metrics)\n",
        "\n",
        "# Train and evaluate\n",
        "args = {\"noise_std\": 0.5}\n",
        "results = t(X, y, population_model, args)\n",
        "results"
      ],
      "execution_count": null,
      "outputs": [
        {
          "output_type": "execute_result",
          "data": {
            "text/plain": [
              "{'accuracy': 0.8848484848484849}"
            ]
          },
          "metadata": {},
          "execution_count": 138
        }
      ]
    }
  ]
}